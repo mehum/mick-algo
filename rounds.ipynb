import random

# interface settings
no_of_rounds = 20
no_of_bets_per_round = 1000


# game settings
chance_to_win = 0.5
payout = 2.1

# player settings
initial_money = 100
wager = 0.1

for i in range(no_of_rounds):
    money = initial_money
    for j in range(no_of_bets_per_round):
        bet = money * wager
        money = money - bet
        chance = random.random()
        if (chance < chance_to_win):
            money = money + bet * payout
    print('Round: {0:2}      Money at end: {2:8.2f}       Profit {3:8.1f}%'.format(i+1, bet, money,100*(money-initial_money)/initial_money))

